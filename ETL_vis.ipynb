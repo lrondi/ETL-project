{
 "cells": [
  {
   "cell_type": "code",
   "execution_count": 1,
   "metadata": {},
   "outputs": [],
   "source": [
    "import pandas as pd\n",
    "import gmaps\n",
    "from config import gkey\n",
    "import ipywidgets as widgets\n",
    "from IPython.display import display"
   ]
  },
  {
   "cell_type": "code",
   "execution_count": 2,
   "metadata": {},
   "outputs": [],
   "source": [
    "gmaps.configure(api_key=gkey)"
   ]
  },
  {
   "cell_type": "code",
   "execution_count": 3,
   "metadata": {},
   "outputs": [],
   "source": [
    "df = pd.read_csv('species_complete.csv')"
   ]
  },
  {
   "cell_type": "code",
   "execution_count": 4,
   "metadata": {},
   "outputs": [],
   "source": [
    "taxa_df = pd.DataFrame({'Level':['Genus','Family','Order','Subclass','Class','Phylum','Kingdom']})"
   ]
  },
  {
   "cell_type": "code",
   "execution_count": 5,
   "metadata": {},
   "outputs": [],
   "source": [
    "def unique_sorted_values(array):\n",
    "    unique = array.unique().tolist()\n",
    "    unique.sort()\n",
    "    unique.insert(0, 'Select species')\n",
    "    return unique\n",
    "\n",
    "def unique_values(array):\n",
    "    unique = array.unique().tolist()\n",
    "    return unique"
   ]
  },
  {
   "cell_type": "code",
   "execution_count": 26,
   "metadata": {},
   "outputs": [
    {
     "data": {
      "application/vnd.jupyter.widget-view+json": {
       "model_id": "82ab6fa5b98e4b7d9f6fc501bd70c30d",
       "version_major": 2,
       "version_minor": 0
      },
      "text/plain": [
       "Dropdown(description='Species: ', options=('Select species', 'Aaptos aaptos', 'Aaptos kanuux', 'Aaptos pernucl…"
      ]
     },
     "metadata": {},
     "output_type": "display_data"
    },
    {
     "data": {
      "application/vnd.jupyter.widget-view+json": {
       "model_id": "9c9fefbb7ee94038bd8c4275ad5297da",
       "version_major": 2,
       "version_minor": 0
      },
      "text/plain": [
       "Dropdown(description='Level of taxonomy to compare: ', options=('Genus', 'Family', 'Order', 'Subclass', 'Class…"
      ]
     },
     "metadata": {},
     "output_type": "display_data"
    }
   ],
   "source": [
    "output = widgets.Output()\n",
    "plot_output = widgets.Output()\n",
    "\n",
    "dropdown_sp = widgets.Dropdown(options = unique_sorted_values(df.ScientificName), description='Species: ')\n",
    "dropdown_taxa = widgets.Dropdown(options = unique_values(taxa_df.Level), description='Level of taxonomy to compare: ')\n",
    "\n",
    "def common_filtering(sp, tax):\n",
    "    output.clear_output()\n",
    "    plot_output.clear_output()\n",
    "    \n",
    "    common_filter = (df[df.ScientificName == sp])\n",
    "    with output:\n",
    "        display(common_filter)\n",
    "        \n",
    "    with plot_output:\n",
    "        species_tag = sp\n",
    "        marker_locations = df[['latitude','longitude']][df.ScientificName==sp]\n",
    "        latitude = df['latitude'][df.ScientificName==sp].tolist()\n",
    "        longitude = df['longitude'][df.ScientificName==sp].tolist()\n",
    "        depth = df['DepthInMeters'][df.ScientificName==sp].tolist()\n",
    "        locality = df['Locality'][df.ScientificName==sp].tolist()\n",
    "        category = df['VernacularNameCategory'][df.ScientificName==sp].tolist()\n",
    "        \n",
    "        taxa_level_list = ['Kingdom','Phylum','Class','Subclass','Order','Family','Genus']\n",
    "        t = taxa_level_list.index(tax) + 3\n",
    "        taxa_name_to_look = df.iloc[:,t][df.ScientificName==sp].tolist()[0]\n",
    "        print(f'{tax}: {taxa_name_to_look}')\n",
    "        \n",
    "        box_dic=[]\n",
    "        for i in range(len(marker_locations)):\n",
    "            box_dic.append({'sp':sp,'lat':latitude[i],'lon':longitude[i],\n",
    "                            'depth':depth[i], 'loc':locality[i], 'cat':category[i]})\n",
    "        info_box_template = \"\"\"<div style='float:left'>\n",
    "        <img src='https://upload.wikimedia.org/wikipedia/commons/thumb/2/20/Aplysina_archeri_%28Stove-pipe_Sponge-pink_variation%29.jpg/179px-Aplysina_archeri_%28Stove-pipe_Sponge-pink_variation%29.jpg'></div>\n",
    "        <div style='float:right; padding: 10px;'>\n",
    "        <b>Species: </b>{sp}</br>\n",
    "        <b>Latitude, longitude: </b>{lat}, {lon}</br>\n",
    "        <b>Depth: </b>{depth}m</br>\n",
    "        <b>Locality: </b>{loc}</br>\n",
    "        <b>Category: </b>{cat}\n",
    "        </div>\"\"\"\n",
    "        \n",
    "        sp_info = [info_box_template.format(**sp) for sp in box_dic]\n",
    "        locations = df.iloc[:,11:13][df.iloc[:,t]==taxa_name_to_look] \n",
    "        \n",
    "        fig = gmaps.figure(map_type=\"HYBRID\")\n",
    "        markers = gmaps.marker_layer(marker_locations, info_box_content=sp_info)\n",
    "        heat = gmaps.heatmap_layer(locations, dissipating=False, max_intensity=100, point_radius = 1)\n",
    "        fig.add_layer(markers)\n",
    "        fig.add_layer(heat)\n",
    "        display(fig)\n",
    "        \n",
    "def dropdown_sp_eventhandler(change):\n",
    "    common_filtering(change.new, dropdown_taxa.value)\n",
    "\n",
    "def dropdown_taxa_eventhandler(change2):\n",
    "    common_filtering(dropdown_sp.value, change2.new)\n",
    "    \n",
    "dropdown_sp.observe(dropdown_sp_eventhandler, names='value')\n",
    "dropdown_taxa.observe(dropdown_taxa_eventhandler, names='value')\n",
    "\n",
    "display(dropdown_sp)\n",
    "display(dropdown_taxa)\n"
   ]
  },
  {
   "cell_type": "code",
   "execution_count": 27,
   "metadata": {
    "scrolled": false
   },
   "outputs": [
    {
     "data": {
      "application/vnd.jupyter.widget-view+json": {
       "model_id": "0ba7da4fb18348c79d2c4010b2bc881f",
       "version_major": 2,
       "version_minor": 0
      },
      "text/plain": [
       "Output()"
      ]
     },
     "metadata": {},
     "output_type": "display_data"
    },
    {
     "data": {
      "application/vnd.jupyter.widget-view+json": {
       "model_id": "370ceda9c5a64d42a7fe18e3f23cf566",
       "version_major": 2,
       "version_minor": 0
      },
      "text/plain": [
       "Output()"
      ]
     },
     "metadata": {},
     "output_type": "display_data"
    }
   ],
   "source": [
    "display(output)\n",
    "display(plot_output)"
   ]
  },
  {
   "cell_type": "code",
   "execution_count": null,
   "metadata": {},
   "outputs": [],
   "source": []
  }
 ],
 "metadata": {
  "kernelspec": {
   "display_name": "Python 3",
   "language": "python",
   "name": "python3"
  },
  "language_info": {
   "codemirror_mode": {
    "name": "ipython",
    "version": 3
   },
   "file_extension": ".py",
   "mimetype": "text/x-python",
   "name": "python",
   "nbconvert_exporter": "python",
   "pygments_lexer": "ipython3",
   "version": "3.7.1"
  }
 },
 "nbformat": 4,
 "nbformat_minor": 2
}
