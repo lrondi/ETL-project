{
 "cells": [
  {
   "cell_type": "code",
   "execution_count": 11,
   "metadata": {},
   "outputs": [],
   "source": [
    "import pandas as pd\n",
    "import gmaps\n",
    "from config import gkey\n",
    "import ipywidgets as widgets\n",
    "from IPython.display import display"
   ]
  },
  {
   "cell_type": "code",
   "execution_count": 12,
   "metadata": {},
   "outputs": [],
   "source": [
    "gmaps.configure(api_key=gkey)"
   ]
  },
  {
   "cell_type": "code",
   "execution_count": 13,
   "metadata": {},
   "outputs": [],
   "source": [
    "df = pd.read_csv('species_complete.csv')"
   ]
  },
  {
   "cell_type": "code",
   "execution_count": 14,
   "metadata": {},
   "outputs": [
    {
     "data": {
      "text/html": [
       "<div>\n",
       "<style scoped>\n",
       "    .dataframe tbody tr th:only-of-type {\n",
       "        vertical-align: middle;\n",
       "    }\n",
       "\n",
       "    .dataframe tbody tr th {\n",
       "        vertical-align: top;\n",
       "    }\n",
       "\n",
       "    .dataframe thead th {\n",
       "        text-align: right;\n",
       "    }\n",
       "</style>\n",
       "<table border=\"1\" class=\"dataframe\">\n",
       "  <thead>\n",
       "    <tr style=\"text-align: right;\">\n",
       "      <th></th>\n",
       "      <th>ScientificName</th>\n",
       "      <th>AphiaID</th>\n",
       "      <th>Kingdom</th>\n",
       "      <th>Phylum</th>\n",
       "      <th>Class</th>\n",
       "      <th>Subclass</th>\n",
       "      <th>Order</th>\n",
       "      <th>Family</th>\n",
       "      <th>Genus</th>\n",
       "      <th>VernacularNameCategory</th>\n",
       "      <th>latitude</th>\n",
       "      <th>longitude</th>\n",
       "      <th>DepthInMeters</th>\n",
       "      <th>Locality</th>\n",
       "    </tr>\n",
       "  </thead>\n",
       "  <tbody>\n",
       "    <tr>\n",
       "      <th>0</th>\n",
       "      <td>Madrepora oculata</td>\n",
       "      <td>135209</td>\n",
       "      <td>Animalia</td>\n",
       "      <td>Cnidaria</td>\n",
       "      <td>Anthozoa</td>\n",
       "      <td>Hexacorallia</td>\n",
       "      <td>Scleractinia</td>\n",
       "      <td>Oculinidae</td>\n",
       "      <td>Madrepora</td>\n",
       "      <td>stony coral (branching)</td>\n",
       "      <td>18.30817</td>\n",
       "      <td>-158.45392</td>\n",
       "      <td>959.0</td>\n",
       "      <td>Hawaiian Archipelago, Swordfish Seamount</td>\n",
       "    </tr>\n",
       "    <tr>\n",
       "      <th>1</th>\n",
       "      <td>Madrepora oculata</td>\n",
       "      <td>135209</td>\n",
       "      <td>Animalia</td>\n",
       "      <td>Cnidaria</td>\n",
       "      <td>Anthozoa</td>\n",
       "      <td>Hexacorallia</td>\n",
       "      <td>Scleractinia</td>\n",
       "      <td>Oculinidae</td>\n",
       "      <td>Madrepora</td>\n",
       "      <td>stony coral (branching)</td>\n",
       "      <td>18.30864</td>\n",
       "      <td>-158.45393</td>\n",
       "      <td>953.0</td>\n",
       "      <td>Hawaiian Archipelago, Swordfish Seamount</td>\n",
       "    </tr>\n",
       "    <tr>\n",
       "      <th>2</th>\n",
       "      <td>Madrepora oculata</td>\n",
       "      <td>135209</td>\n",
       "      <td>Animalia</td>\n",
       "      <td>Cnidaria</td>\n",
       "      <td>Anthozoa</td>\n",
       "      <td>Hexacorallia</td>\n",
       "      <td>Scleractinia</td>\n",
       "      <td>Oculinidae</td>\n",
       "      <td>Madrepora</td>\n",
       "      <td>stony coral (branching)</td>\n",
       "      <td>18.30877</td>\n",
       "      <td>-158.45384</td>\n",
       "      <td>955.0</td>\n",
       "      <td>Hawaiian Archipelago, Swordfish Seamount</td>\n",
       "    </tr>\n",
       "    <tr>\n",
       "      <th>3</th>\n",
       "      <td>Madrepora oculata</td>\n",
       "      <td>135209</td>\n",
       "      <td>Animalia</td>\n",
       "      <td>Cnidaria</td>\n",
       "      <td>Anthozoa</td>\n",
       "      <td>Hexacorallia</td>\n",
       "      <td>Scleractinia</td>\n",
       "      <td>Oculinidae</td>\n",
       "      <td>Madrepora</td>\n",
       "      <td>stony coral (branching)</td>\n",
       "      <td>18.30875</td>\n",
       "      <td>-158.45384</td>\n",
       "      <td>955.0</td>\n",
       "      <td>Hawaiian Archipelago, Swordfish Seamount</td>\n",
       "    </tr>\n",
       "    <tr>\n",
       "      <th>4</th>\n",
       "      <td>Madrepora oculata</td>\n",
       "      <td>135209</td>\n",
       "      <td>Animalia</td>\n",
       "      <td>Cnidaria</td>\n",
       "      <td>Anthozoa</td>\n",
       "      <td>Hexacorallia</td>\n",
       "      <td>Scleractinia</td>\n",
       "      <td>Oculinidae</td>\n",
       "      <td>Madrepora</td>\n",
       "      <td>stony coral (branching)</td>\n",
       "      <td>18.30902</td>\n",
       "      <td>-158.45425</td>\n",
       "      <td>968.0</td>\n",
       "      <td>Hawaiian Archipelago, Swordfish Seamount</td>\n",
       "    </tr>\n",
       "  </tbody>\n",
       "</table>\n",
       "</div>"
      ],
      "text/plain": [
       "      ScientificName  AphiaID   Kingdom    Phylum     Class      Subclass  \\\n",
       "0  Madrepora oculata   135209  Animalia  Cnidaria  Anthozoa  Hexacorallia   \n",
       "1  Madrepora oculata   135209  Animalia  Cnidaria  Anthozoa  Hexacorallia   \n",
       "2  Madrepora oculata   135209  Animalia  Cnidaria  Anthozoa  Hexacorallia   \n",
       "3  Madrepora oculata   135209  Animalia  Cnidaria  Anthozoa  Hexacorallia   \n",
       "4  Madrepora oculata   135209  Animalia  Cnidaria  Anthozoa  Hexacorallia   \n",
       "\n",
       "          Order      Family      Genus   VernacularNameCategory  latitude  \\\n",
       "0  Scleractinia  Oculinidae  Madrepora  stony coral (branching)  18.30817   \n",
       "1  Scleractinia  Oculinidae  Madrepora  stony coral (branching)  18.30864   \n",
       "2  Scleractinia  Oculinidae  Madrepora  stony coral (branching)  18.30877   \n",
       "3  Scleractinia  Oculinidae  Madrepora  stony coral (branching)  18.30875   \n",
       "4  Scleractinia  Oculinidae  Madrepora  stony coral (branching)  18.30902   \n",
       "\n",
       "   longitude  DepthInMeters                                  Locality  \n",
       "0 -158.45392          959.0  Hawaiian Archipelago, Swordfish Seamount  \n",
       "1 -158.45393          953.0  Hawaiian Archipelago, Swordfish Seamount  \n",
       "2 -158.45384          955.0  Hawaiian Archipelago, Swordfish Seamount  \n",
       "3 -158.45384          955.0  Hawaiian Archipelago, Swordfish Seamount  \n",
       "4 -158.45425          968.0  Hawaiian Archipelago, Swordfish Seamount  "
      ]
     },
     "execution_count": 14,
     "metadata": {},
     "output_type": "execute_result"
    }
   ],
   "source": [
    "df = df.rename(columns={'index':'ScientificName'})\n",
    "df.head()"
   ]
  },
  {
   "cell_type": "code",
   "execution_count": 15,
   "metadata": {},
   "outputs": [],
   "source": [
    "taxa_df = pd.DataFrame({'Level':['Genus','Family','Order','Subclass','Class','Phylum','Kingdom']})"
   ]
  },
  {
   "cell_type": "code",
   "execution_count": 16,
   "metadata": {},
   "outputs": [],
   "source": [
    "def unique_sorted_values(array):\n",
    "    unique = array.unique().tolist()\n",
    "    unique.sort()\n",
    "    unique.insert(0, 'Select species')\n",
    "    return unique\n",
    "\n",
    "def unique_values(array):\n",
    "    unique = array.unique().tolist()\n",
    "    return unique"
   ]
  },
  {
   "cell_type": "code",
   "execution_count": 17,
   "metadata": {},
   "outputs": [
    {
     "data": {
      "application/vnd.jupyter.widget-view+json": {
       "model_id": "eac41b6fe29a4cc58b9ed37fe451538b",
       "version_major": 2,
       "version_minor": 0
      },
      "text/plain": [
       "Dropdown(description='Species: ', options=('Select species', 'Aaptos aaptos', 'Aaptos kanuux', 'Aaptos pernucl…"
      ]
     },
     "metadata": {},
     "output_type": "display_data"
    },
    {
     "data": {
      "application/vnd.jupyter.widget-view+json": {
       "model_id": "a581e1c9cfbe4a3e9be8a79459fa4396",
       "version_major": 2,
       "version_minor": 0
      },
      "text/plain": [
       "Dropdown(description='Level of taxonomy to compare: ', options=('Genus', 'Family', 'Order', 'Subclass', 'Class…"
      ]
     },
     "metadata": {},
     "output_type": "display_data"
    }
   ],
   "source": [
    "output = widgets.Output()\n",
    "plot_output = widgets.Output()\n",
    "\n",
    "dropdown_sp = widgets.Dropdown(options = unique_sorted_values(df.ScientificName), description='Species: ')\n",
    "dropdown_taxa = widgets.Dropdown(options = unique_values(taxa_df.Level), description='Level of taxonomy to compare: ')\n",
    "\n",
    "def common_filtering(sp, tax):\n",
    "    output.clear_output()\n",
    "    plot_output.clear_output()\n",
    "    \n",
    "    common_filter = (df[df.ScientificName == sp])\n",
    "    with output:\n",
    "        display(common_filter)\n",
    "        \n",
    "    with plot_output:\n",
    "        species_tag = sp\n",
    "        marker_locations = df[['latitude','longitude']][df.ScientificName==sp]\n",
    "        latitude = df['latitude'][df.ScientificName==sp].tolist()\n",
    "        longitude = df['longitude'][df.ScientificName==sp].tolist()\n",
    "        depth = df['DepthInMeters'][df.ScientificName==sp].tolist()\n",
    "        locality = df['Locality'][df.ScientificName==sp].tolist()\n",
    "        category = df['VernacularNameCategory'][df.ScientificName==sp].tolist()\n",
    "        \n",
    "        taxa_level_list = ['Kingdom','Phylum','Class','Subclass','Order','Family','Genus']\n",
    "        t = taxa_level_list.index(tax) + 3\n",
    "        taxa_name_to_look = df.iloc[:,t][df.ScientificName==sp].tolist()[0]\n",
    "        print(f'{tax}: {taxa_name_to_look}')\n",
    "        \n",
    "        box_dic=[]\n",
    "        for i in range(len(marker_locations)):\n",
    "            box_dic.append({'sp':sp,'lat':latitude[i],'lon':longitude[i],\n",
    "                            'depth':depth[i], 'loc':locality[i], 'cat':category[i]})\n",
    "        info_box_template = \"\"\"<div style='float:left'>\n",
    "        <img src='https://upload.wikimedia.org/wikipedia/commons/thumb/2/20/Aplysina_archeri_%28Stove-pipe_Sponge-pink_variation%29.jpg/179px-Aplysina_archeri_%28Stove-pipe_Sponge-pink_variation%29.jpg'></div>\n",
    "        <div style='float:right; padding: 10px;'>\n",
    "        <b>Species: </b>{sp}</br>\n",
    "        <b>Latitude, longitude: </b>{lat}, {lon}</br>\n",
    "        <b>Depth: </b>{depth}m</br>\n",
    "        <b>Locality: </b>{loc}</br>\n",
    "        <b>Category: </b>{cat}\n",
    "        </div>\"\"\"\n",
    "        \n",
    "        sp_info = [info_box_template.format(**sp) for sp in box_dic]\n",
    "        locations = df.iloc[:,10:12][df.iloc[:,t]==taxa_name_to_look] \n",
    "        \n",
    "        fig = gmaps.figure(map_type=\"HYBRID\")\n",
    "        markers = gmaps.marker_layer(marker_locations, info_box_content=sp_info)\n",
    "        heat = gmaps.heatmap_layer(locations, dissipating=False, max_intensity=100, point_radius = 1)\n",
    "        fig.add_layer(markers)\n",
    "        fig.add_layer(heat)\n",
    "        display(fig)\n",
    "        \n",
    "def dropdown_sp_eventhandler(change):\n",
    "    common_filtering(change.new, dropdown_taxa.value)\n",
    "\n",
    "def dropdown_taxa_eventhandler(change2):\n",
    "    common_filtering(dropdown_sp.value, change2.new)\n",
    "    \n",
    "dropdown_sp.observe(dropdown_sp_eventhandler, names='value')\n",
    "dropdown_taxa.observe(dropdown_taxa_eventhandler, names='value')\n",
    "\n",
    "display(dropdown_sp)\n",
    "display(dropdown_taxa)\n"
   ]
  },
  {
   "cell_type": "code",
   "execution_count": 18,
   "metadata": {
    "scrolled": false
   },
   "outputs": [
    {
     "data": {
      "application/vnd.jupyter.widget-view+json": {
       "model_id": "54d9ebd018314832a6fad2341a7bce35",
       "version_major": 2,
       "version_minor": 0
      },
      "text/plain": [
       "Output()"
      ]
     },
     "metadata": {},
     "output_type": "display_data"
    },
    {
     "data": {
      "application/vnd.jupyter.widget-view+json": {
       "model_id": "1f083c0dcd6342429fb629607456d634",
       "version_major": 2,
       "version_minor": 0
      },
      "text/plain": [
       "Output()"
      ]
     },
     "metadata": {},
     "output_type": "display_data"
    }
   ],
   "source": [
    "display(output)\n",
    "display(plot_output)"
   ]
  },
  {
   "cell_type": "code",
   "execution_count": null,
   "metadata": {},
   "outputs": [],
   "source": []
  }
 ],
 "metadata": {
  "kernelspec": {
   "display_name": "Python 3",
   "language": "python",
   "name": "python3"
  },
  "language_info": {
   "codemirror_mode": {
    "name": "ipython",
    "version": 3
   },
   "file_extension": ".py",
   "mimetype": "text/x-python",
   "name": "python",
   "nbconvert_exporter": "python",
   "pygments_lexer": "ipython3",
   "version": "3.7.1"
  }
 },
 "nbformat": 4,
 "nbformat_minor": 2
}
